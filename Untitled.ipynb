{
 "cells": [
  {
   "cell_type": "code",
   "execution_count": 1,
   "id": "59dac64c-0b5d-4354-8ab0-a3fd4daf9204",
   "metadata": {},
   "outputs": [],
   "source": [
    "import altair as alt\n",
    "from dash import Dash, dcc, html, Input, Output\n",
    "from vega_datasets import data"
   ]
  },
  {
   "cell_type": "code",
   "execution_count": 20,
   "id": "69d09525-87a1-42af-95be-8f4b46d8ba09",
   "metadata": {
    "collapsed": true,
    "jupyter": {
     "outputs_hidden": true,
     "source_hidden": true
    },
    "tags": []
   },
   "outputs": [
    {
     "name": "stdout",
     "output_type": "stream",
     "text": [
      "Dash is running on http://127.0.0.1:8050/\n",
      "\n",
      "Dash is running on http://127.0.0.1:8050/\n",
      "\n",
      "Dash is running on http://127.0.0.1:8050/\n",
      "\n",
      "Dash is running on http://127.0.0.1:8050/\n",
      "\n",
      "Dash is running on http://127.0.0.1:8050/\n",
      "\n",
      "Dash is running on http://127.0.0.1:8050/\n",
      "\n",
      "Dash is running on http://127.0.0.1:8050/\n",
      "\n",
      "Dash is running on http://127.0.0.1:8050/\n",
      "\n",
      "Dash is running on http://127.0.0.1:8050/\n",
      "\n",
      "Dash is running on http://127.0.0.1:8050/\n",
      "\n",
      "Dash is running on http://127.0.0.1:8050/\n",
      "\n",
      " * Serving Flask app '__main__' (lazy loading)\n",
      " * Environment: production\n",
      "\u001b[31m   WARNING: This is a development server. Do not use it in a production deployment.\u001b[0m\n",
      "\u001b[2m   Use a production WSGI server instead.\u001b[0m\n",
      " * Debug mode: on\n"
     ]
    },
    {
     "name": "stderr",
     "output_type": "stream",
     "text": [
      "Traceback (most recent call last):\n",
      "  File \"/Users/samquist/miniconda3/lib/python3.9/site-packages/ipykernel_launcher.py\", line 16, in <module>\n",
      "    app.launch_new_instance()\n",
      "  File \"/Users/samquist/miniconda3/lib/python3.9/site-packages/traitlets/config/application.py\", line 844, in launch_instance\n",
      "    app.initialize(argv)\n",
      "  File \"/Users/samquist/miniconda3/lib/python3.9/site-packages/traitlets/config/application.py\", line 87, in inner\n",
      "    return method(app, *args, **kwargs)\n",
      "  File \"/Users/samquist/miniconda3/lib/python3.9/site-packages/ipykernel/kernelapp.py\", line 622, in initialize\n",
      "    self.init_sockets()\n",
      "  File \"/Users/samquist/miniconda3/lib/python3.9/site-packages/ipykernel/kernelapp.py\", line 275, in init_sockets\n",
      "    self.shell_port = self._bind_socket(self.shell_socket, self.shell_port)\n",
      "  File \"/Users/samquist/miniconda3/lib/python3.9/site-packages/ipykernel/kernelapp.py\", line 222, in _bind_socket\n",
      "    return self._try_bind_socket(s, port)\n",
      "  File \"/Users/samquist/miniconda3/lib/python3.9/site-packages/ipykernel/kernelapp.py\", line 198, in _try_bind_socket\n",
      "    s.bind(\"tcp://%s:%i\" % (self.ip, port))\n",
      "  File \"/Users/samquist/miniconda3/lib/python3.9/site-packages/zmq/sugar/socket.py\", line 208, in bind\n",
      "    super().bind(addr)\n",
      "  File \"zmq/backend/cython/socket.pyx\", line 540, in zmq.backend.cython.socket.Socket.bind\n",
      "  File \"zmq/backend/cython/checkrc.pxd\", line 28, in zmq.backend.cython.checkrc._check_rc\n",
      "zmq.error.ZMQError: Address already in use\n"
     ]
    },
    {
     "ename": "SystemExit",
     "evalue": "1",
     "output_type": "error",
     "traceback": [
      "An exception has occurred, use %tb to see the full traceback.\n",
      "\u001b[0;31mSystemExit\u001b[0m\u001b[0;31m:\u001b[0m 1\n"
     ]
    },
    {
     "name": "stderr",
     "output_type": "stream",
     "text": [
      "/Users/samquist/miniconda3/lib/python3.9/site-packages/IPython/core/interactiveshell.py:3449: UserWarning: To exit: use 'exit', 'quit', or Ctrl-D.\n",
      "  warn(\"To exit: use 'exit', 'quit', or Ctrl-D.\", stacklevel=1)\n"
     ]
    }
   ],
   "source": [
    "app = Dash(__name__)\n",
    "\n",
    "\n",
    "\n",
    "def plot_altair(xmax):\n",
    "    chart = alt.Chart(bar[bar['year'] < xmax]).mark_point().encode(\n",
    "        x='year',\n",
    "        y='yield')\n",
    "    return chart.to_html()\n",
    "\n",
    "app = Dash(__name__, external_stylesheets=['https://codepen.io/chriddyp/pen/bWLwgP.css'])\n",
    "\n",
    "app.layout = html.Div([\n",
    "        html.Iframe(\n",
    "            id='scatter',\n",
    "            srcDoc=plot_altair(xmax=0),\n",
    "            style={'border-width': '0', 'width': '100%', 'height': '400px'}),\n",
    "        dcc.Slider(id='xslider', min=0, max=240)])\n",
    "        \n",
    "@app.callback(\n",
    "    Output('scatter', 'srcDoc'),\n",
    "    Input('xslider', 'value'))\n",
    "def update_output(xmax):\n",
    "    return plot_altair(xmax)\n",
    "\n",
    "if __name__ == '__main__':\n",
    "    app.run_server(debug=True)"
   ]
  },
  {
   "cell_type": "code",
   "execution_count": 13,
   "id": "ebca7779-d9de-447b-95cf-e637e81c3a56",
   "metadata": {},
   "outputs": [
    {
     "data": {
      "text/plain": [
       "0      2010-01-01 00:00:00\n",
       "1      2010-01-01 01:00:00\n",
       "2      2010-01-01 02:00:00\n",
       "3      2010-01-01 03:00:00\n",
       "4      2010-01-01 04:00:00\n",
       "               ...        \n",
       "8754   2010-12-31 19:00:00\n",
       "8755   2010-12-31 20:00:00\n",
       "8756   2010-12-31 21:00:00\n",
       "8757   2010-12-31 22:00:00\n",
       "8758   2010-12-31 23:00:00\n",
       "Name: date, Length: 8759, dtype: datetime64[ns]"
      ]
     },
     "execution_count": 13,
     "metadata": {},
     "output_type": "execute_result"
    }
   ],
   "source": []
  },
  {
   "cell_type": "code",
   "execution_count": 8,
   "id": "7dc6f99d-8eab-45c5-beaa-ef06299d0ff7",
   "metadata": {},
   "outputs": [
    {
     "data": {
      "text/plain": [
       "array(['University Farm', 'Waseca', 'Morris', 'Crookston', 'Grand Rapids',\n",
       "       'Duluth'], dtype=object)"
      ]
     },
     "execution_count": 8,
     "metadata": {},
     "output_type": "execute_result"
    }
   ],
   "source": [
    "data.barley()['site'].unique()"
   ]
  },
  {
   "cell_type": "code",
   "execution_count": null,
   "id": "b5b959bc-a4f2-452b-a992-91db866d7fcd",
   "metadata": {},
   "outputs": [],
   "source": []
  }
 ],
 "metadata": {
  "kernelspec": {
   "display_name": "Python 3 (ipykernel)",
   "language": "python",
   "name": "python3"
  },
  "language_info": {
   "codemirror_mode": {
    "name": "ipython",
    "version": 3
   },
   "file_extension": ".py",
   "mimetype": "text/x-python",
   "name": "python",
   "nbconvert_exporter": "python",
   "pygments_lexer": "ipython3",
   "version": "3.9.6"
  }
 },
 "nbformat": 4,
 "nbformat_minor": 5
}
