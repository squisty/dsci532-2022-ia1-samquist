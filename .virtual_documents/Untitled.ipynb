import altair as alt
from dash import Dash, dcc, html, Input, Output
from vega_datasets import data


app = Dash(__name__)



def plot_altair(xmax):
    chart = alt.Chart(bar[bar['year'] < xmax]).mark_point().encode(
        x='year',
        y='yield')
    return chart.to_html()

app = Dash(__name__, external_stylesheets=['https://codepen.io/chriddyp/pen/bWLwgP.css'])

app.layout = html.Div([
        html.Iframe(
            id='scatter',
            srcDoc=plot_altair(xmax=0),
            style={'border-width': '0', 'width': '100%', 'height': '400px'}),
        dcc.Slider(id='xslider', min=0, max=240)])
        
@app.callback(
    Output('scatter', 'srcDoc'),
    Input('xslider', 'value'))
def update_output(xmax):
    return plot_altair(xmax)

if __name__ == '__main__':
    app.run_server(debug=True)





data.barley()['site'].unique()



